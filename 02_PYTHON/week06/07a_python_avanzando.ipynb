{
 "cells": [
  {
   "cell_type": "markdown",
   "metadata": {},
   "source": [
    "Programación para *Data Science*\n",
    "============================\n",
    "\n",
    "Intro101 - 07a Conceptos avanzados de Python\n",
    "--------------------------------------\n",
    "\n",
    "En este Notebook encontraréis dos conjuntos de ejercicios de Python."
   ]
  },
  {
   "cell_type": "markdown",
   "metadata": {},
   "source": [
    "### Ejercicio 1\n",
    "\n",
    "Un número primo es aquél que solo es divisible por él mismo y por 1.\n",
    "\n",
    "a) Escribe un código que compruebe si un número `x = 15` es solo divisible por 1 o por el mismo.  Escribe este código usando un iterador (un `for` o un `while`) que barra todos los valores desde `2` a `x-1`. Crea una variable `divisible`  que tenga por defecto valor `False` y asigne el valor `True` si a lo largo de la iteración encuentra un número natural divisible. Puedes usar el operador modulo `a % b` para saber si un numero `b` es divisible por `a`."
   ]
  },
  {
   "cell_type": "code",
   "execution_count": 4,
   "metadata": {},
   "outputs": [
    {
     "name": "stdout",
     "output_type": "stream",
     "text": [
      "15 True.\n"
     ]
    }
   ],
   "source": [
    "numero = 15\n",
    "if numero <= 1:\n",
    "        print(\"¡Le he pedido un número entero mayor que 1!\")\n",
    "else:\n",
    "        contador = 0\n",
    "        limite = round(numero ** 0.5)\n",
    "        for i in range(1, limite + 1):\n",
    "            if numero % i == 0:\n",
    "                contador = contador + 1\n",
    "        if contador == 1:\n",
    "            print(f\"{numero} {False}.\")\n",
    "        else:\n",
    "            print(f\"{numero} {True}.\")"
   ]
  },
  {
   "cell_type": "markdown",
   "metadata": {},
   "source": [
    "b) Convierte tu código anterior en una función que compruebe si el número del argumento es primo o no, devolviendo True is es primo y False si no es primo. Comprueba tu función con los valores 492366587, 492366585,48947  y 2,\n",
    "\n"
   ]
  },
  {
   "cell_type": "code",
   "execution_count": 6,
   "metadata": {},
   "outputs": [
    {
     "name": "stdout",
     "output_type": "stream",
     "text": [
      "2 es primo.\n"
     ]
    }
   ],
   "source": [
    "def main(numero):\n",
    "\n",
    "    if numero <= 1:\n",
    "        print(\"¡Le he pedido un número entero mayor que 1!\")\n",
    "    else:\n",
    "        contador = 0\n",
    "        limite = round(numero ** 0.5)\n",
    "        for i in range(1, limite + 1):\n",
    "            if numero % i == 0:\n",
    "                contador = contador + 1\n",
    "        if contador == 1:\n",
    "            print(f\"{numero} es primo.\")\n",
    "        else:\n",
    "            print(f\"{numero} no es primo.\")\n",
    "\n",
    "\n",
    "if __name__ == \"__main__\":\n",
    "    main(2)"
   ]
  },
  {
   "cell_type": "code",
   "execution_count": 7,
   "metadata": {},
   "outputs": [
    {
     "name": "stdout",
     "output_type": "stream",
     "text": [
      "492366587 es primo.\n"
     ]
    }
   ],
   "source": [
    "main(492366587)"
   ]
  },
  {
   "cell_type": "code",
   "execution_count": 8,
   "metadata": {},
   "outputs": [
    {
     "ename": "TypeError",
     "evalue": "main() takes 1 positional argument but 2 were given",
     "output_type": "error",
     "traceback": [
      "\u001b[1;31m---------------------------------------------------------------------------\u001b[0m",
      "\u001b[1;31mTypeError\u001b[0m                                 Traceback (most recent call last)",
      "\u001b[1;32mc:\\Users\\manud\\OneDrive\\Escritorio\\07a_python_avanzando.ipynb Cell 7'\u001b[0m in \u001b[0;36m<module>\u001b[1;34m\u001b[0m\n\u001b[1;32m----> <a href='vscode-notebook-cell:/c%3A/Users/manud/OneDrive/Escritorio/07a_python_avanzando.ipynb#ch0000044?line=0'>1</a>\u001b[0m main(\u001b[39m492366585\u001b[39;49m,\u001b[39m48947\u001b[39;49m)\n",
      "\u001b[1;31mTypeError\u001b[0m: main() takes 1 positional argument but 2 were given"
     ]
    }
   ],
   "source": [
    "main(492366585,48947)\n",
    "\n",
    "# Los numeros decimales no pueden ser primos"
   ]
  },
  {
   "cell_type": "markdown",
   "metadata": {},
   "source": [
    "c) En el cálculo de la función anterior, una vez se ha encontrado un número que es divisible dentro del rango ya no tiene sentido comprobar el resto de números del rango. Por ejemplo si 10 ya es divisble entre 2, ya no hace falta probar de 3 en adelante pues ya sabemos que el número no es primo. \n",
    "\n",
    "Modifica la función anterior de la siguiente forma: \n",
    "- Una vez se encuentra el divisor, la iteración se interrumpe para no probar el resto de enteros. \n",
    "- La función devuelve\n",
    "    - **Si es primo**: True\n",
    "    - **Si no es primo**, el primer divisor mayor que 1.\n",
    "    \n",
    "Puedes hacer uso del comando *break* dentro de un bucle para interrumpir este, puedes consultar más información sobre break en la documentación de python [aquí](https://docs.python.org/2/tutorial/controlflow.html).\n",
    "\n",
    "Comprueba tu función con los valores 492366585, 492366587, 48947 y 2,"
   ]
  },
  {
   "cell_type": "code",
   "execution_count": 25,
   "metadata": {},
   "outputs": [
    {
     "data": {
      "text/plain": [
       "True"
      ]
     },
     "execution_count": 25,
     "metadata": {},
     "output_type": "execute_result"
    }
   ],
   "source": [
    "def primo(x):\n",
    "    i=0\n",
    "    t=[]\n",
    "    if x == 2:\n",
    "        t.append(2)\n",
    "        return t\n",
    "    else:\n",
    "        for i in range(2,x):\n",
    "            if x % i == 0:\n",
    "                t.append(i)\n",
    "                return t\n",
    "            else:\n",
    "                divisible=True\n",
    "    return divisible\n",
    "primo(7)"
   ]
  },
  {
   "cell_type": "markdown",
   "metadata": {},
   "source": [
    "### Ejercicio 2\n",
    "\n",
    "La Covid-19 es una enfermedad producida por la infección del virus SARS-CoV-2. La infección es transmisible de persona a persona y su contagiosidad depende de la cantidad del virus en las vías respiratorias. Si cada persona contagiada transmite la enfermedad a $\\beta$ contactos en promedio por periodo de tiempo $t$, es posible estimar la evolución del contagio con un modelo matemático sencillo.\n",
    "\n",
    "Para $t=1$día, las transmisiones en España se han estimado a partir de su histórico de las semanas de Febrero y Marzo del 2020 una $\\beta = 0.35$ transmissiones por día por infectado.\n",
    "\n",
    "Durante un periodo de tiempo (por ejempo un día $d$) la tasa de nuevos contagios se puede estimar como  una proporción al número de contagiados del periodo anterior $N$: \n",
    "\n",
    "$ \\Delta N = N_{1} - N = \\beta \\cdot $ (1)\n",
    "\n",
    "Por tanto, podemos proyectar el número futuro de afectados como \n",
    "\n",
    "$ N_{1} = N + \\beta \\cdot N = (1+\\beta) \\cdot $ (2) \n",
    "\n",
    "En dos días:\n",
    "\n",
    "$ N_{2} = (1+\\beta) \\cdot N_{1} = (1+\\beta)^2 \\cdot $  (3)\n",
    "\n",
    "Y en general en D días tendremos \n",
    "\n",
    "$ N_{D} = (1+\\beta)^D \\cdot N$  (4)\n",
    " \n",
    "Asumiendo este sencillo modelo: \n",
    "\n",
    "a) Implementa una función de dos parámetros (N: población infectada inicial, D: número de días), que devuelva el cálculo de afectados para D días siguiendo la ecuación (4). Suponiendo una población afectada de 4250 (población afectada en españa a día 13 de Marzo de 2020), usa la función para calcular la población estimada en 1, 2, 7 y 30 días. "
   ]
  },
  {
   "cell_type": "code",
   "execution_count": 3,
   "metadata": {},
   "outputs": [],
   "source": [
    "# Respuesta\n",
    "\n",
    "def covid(n,d):\n",
    "    b=0.35\n",
    "    Nfinal= pow((1+b),d)*n\n",
    "    return round(Nfinal,3)"
   ]
  },
  {
   "cell_type": "code",
   "execution_count": 27,
   "metadata": {},
   "outputs": [
    {
     "data": {
      "text/plain": [
       "2319519.716"
      ]
     },
     "execution_count": 27,
     "metadata": {},
     "output_type": "execute_result"
    }
   ],
   "source": [
    "covid(4250,21)"
   ]
  },
  {
   "cell_type": "markdown",
   "metadata": {},
   "source": [
    "b) Sabiendo que los Servicios de Medicina Intensiva (SMI) disponen de 3363 camas para enfermos graves, y suponiendo que un 10% de los afectados por el covid-19 requerirán de SMI y una supervivencia del 2,5% (Exitus), escribe un código que calcule:\n",
    "- El día en curso (Día)\n",
    "- El total de afectados por el virus para cada día d (Afectados)\n",
    "- El total de ingresados en SMI por el virus para cada día d (Críticos)\n",
    "- El total de Exitus por el virus para cada día d (Exitus)\n",
    "- Si los servicios de SMI no pueden aceptar los ingresados para cada día $d$ (Estado: indicando Saturación/No Saturación)\n",
    "\n",
    "Imprime en pantalla la información de cada día durante una simulación de tres semanas, suponiendo que no hay recuperaciones, con una población afectada inicial 4250 y una $\\beta = 0.35$ constante. "
   ]
  },
  {
   "cell_type": "code",
   "execution_count": 32,
   "metadata": {},
   "outputs": [
    {
     "name": "stdout",
     "output_type": "stream",
     "text": [
      "Dia     Afectados    Uci      Exitus   Camas      Saturacion \n",
      "1        5738        574       14      2789       no saturacion\n",
      "2        7746        775       19      2015       no saturacion\n",
      "3        10457       1046      26      969        no saturacion\n",
      "4        14116       1412      35     -443        saturación\n",
      "5        19057       1906      48     -2348       saturación\n",
      "6        25727       2573      64     -4921       saturación\n",
      "7        34732       3473      87     -8394       saturación\n",
      "8        46888       4689      117    -13083      saturación\n",
      "9        63298       6330      158    -19413      saturación\n",
      "10       85453       8545      214    -27958      saturación\n",
      "11       115361      11536     288    -39494      saturación\n",
      "12       155738      15574     389    -55068      saturación\n",
      "13       210246      21025     526    -76093      saturación\n",
      "14       283832      28383     710    -104476     saturación\n",
      "15       383173      38317     958    -142793     saturación\n",
      "16       517284      51728     1293   -194522     saturación\n",
      "17       698334      69833     1746   -264355     saturación\n",
      "18       942750      94275     2357   -358630     saturación\n",
      "19       1272713     127271    3182   -485901     saturación\n",
      "20       1718163     171816    4295   -657718     saturación\n",
      "21       2319520     231952    5799   -889670     saturación\n"
     ]
    }
   ],
   "source": [
    "afe_dia=0\n",
    "smi=0\n",
    "exitus=0\n",
    "b=0.35\n",
    "i=0\n",
    "d=1\n",
    "n=4250\n",
    "camas=3363\n",
    "camas_2=\"\"\n",
    "print(\"{:<8}{:<13}{:<9}{:<9}{:<11}{:<11}\".format(\"Dia\",\"Afectados\",\"Uci\",\n",
    "        \"Exitus\",\"Camas\",\"Saturacion\"))\n",
    "while i<21:\n",
    "    afe_dia= pow((1+b),d)*n\n",
    "    n=afe_dia\n",
    "    smi = afe_dia * 0.1\n",
    "    exitus = smi * 0.025\n",
    "    camas = camas - smi\n",
    "    i= i +1 \n",
    "    if camas <=0:\n",
    "        camas_2=\"saturación\"\n",
    "        print(\"{:<9}{:<12}{:<10}{:<7}{:<12}{:<10}\".format(i,round(afe_dia),\n",
    "              round(smi),round(exitus),round(camas),camas_2))\n",
    "    else:\n",
    "        camas_2=\"no saturacion\"\n",
    "        print(\"{:<9}{:<12}{:<10}{:<8}{:<11}{:<10}\".format(i,round(afe_dia), \n",
    "                round(smi),round(exitus),round(camas),camas_2))"
   ]
  },
  {
   "cell_type": "markdown",
   "metadata": {},
   "source": [
    "c) Convierte el código anterior en una función que genere un archivo de texto con nombre `output.txt`, siguiendo este formato: \n",
    "```\n",
    "Dia, Afectados, Críticos, Exitus, Estado\n",
    "0, 4250, 425,  106, No Saturación\n",
    "1, 5737, 573,  143, No Saturación\n",
    "2, 7745, 774,  193, No Saturación\n",
    "...\n",
    "```\n",
    "Con los parámetros de entrada $N$, $D$, $\\beta$, camas SMI."
   ]
  },
  {
   "cell_type": "markdown",
   "metadata": {},
   "source": [
    "### Ejercicio 3\n",
    "\n",
    "Dado el siguiente diccionario:"
   ]
  },
  {
   "cell_type": "code",
   "execution_count": 36,
   "metadata": {},
   "outputs": [],
   "source": [
    "d = {\"Alex\":344334443, \"Eva\":5533443, \"Cristina\":443355, \"Jonas\":33223324}"
   ]
  },
  {
   "cell_type": "markdown",
   "metadata": {},
   "source": [
    "Escribid una función que pregunte al usuario que introduzca el nombre de una persona y muestre por pantalla el nombre de la persona y su teléfono. \n",
    "\n",
    "Tened en cuenta que:\n",
    "\n",
    "- La función debe controlar que el valor introducido por el usuario es un nombre que existe en el diccionario. En caso contrario, mostrará un mensaje de error (\"El nombre introducido no corresponde a ninguna persona\") y devolverá el valor False.\n",
    "- Debéis tener en cuenta que el nombre de las personas que nos pasan por parámetro puede ser en minúsculas, mayúsculas o una combinación de ambas, y que debemos encontrar el número de teléfono aunque la capitalización de la cadena entrada por el usuario no sea exactamente la misma que hemos almacenado en el diccionario.\n",
    "- Suponed que  no hay acentos en los nombres.\n",
    "\n",
    "Nota 1: Para realizar la actividad, tendréis que capturar un texto que entrará el usuario. Consultad la [documentación oficial de la función input](https://docs.python.org/3/library/functions.html#input) para ver cómo hacerlo.\n",
    "\n",
    "Nota 2: También tendréis que pensar cómo tratar el hecho de que el usuario pueda utilizar mayúsculas y minúsculas en la escritura del nombre en el diccionario. ¡Os animamos a usar un buscador para intentar encontrar alguna alternativa para resolver este subproblema! ¡Recordad citar las referencias que hayáis usado para resolverlo!\n"
   ]
  },
  {
   "cell_type": "code",
   "execution_count": 15,
   "metadata": {},
   "outputs": [
    {
     "name": "stdout",
     "output_type": "stream",
     "text": [
      "El nombre es: Eva , el telefono es: 5533443\n"
     ]
    }
   ],
   "source": [
    "d = {\"Alex\":344334443, \"Eva\":5533443, \"Cristina\":443355, \"Jonas\":33223324}\n",
    "\n",
    "def documentación(d):\n",
    "    d = {\"Alex\":344334443, \"Eva\":5533443, \"Cristina\":443355, \"Jonas\":33223324}\n",
    "    for i in d:\n",
    "        nombre=str(input(\"Introduce nombre de una persona del diccionario\"))\n",
    "        nombre=nombre.upper()\n",
    "        nombre=nombre.capitalize()\n",
    "        if nombre in d:\n",
    "            print(\"El nombre es:\", nombre, \", el telefono es:\",d.get(nombre))\n",
    "            break\n",
    "    else:\n",
    "        va=False\n",
    "        print(\"El nombre introducido no corresponde a ninguna persona:\",va)\n",
    "\n",
    "documentación(d)\n",
    "    \n",
    "    "
   ]
  },
  {
   "cell_type": "markdown",
   "metadata": {},
   "source": [
    "###  Ejercicio 4\n",
    "\n",
    "Python dispone de un **idiom** muy útil conocido como `list comprehension`. Utilizando este **idiom**, proporcionad una expresión que devuelva las listas siguientes.\n",
    "\n",
    "Nota: Para realizar esta actividad necesitaréis investigar qué son las `list comprehension` y qué sintaxis utilizan. Para ello, se recomienda en primer lugar que utilicéis un buscador para encontrar información genérica sobre esta construcción. Después, os recomendamos que consultéis stackoverflow para ver algunos ejemplos de problemas que se pueden resolver con esta construcción.\n",
    "\n",
    "\n",
    "[stackoverflow](https://stackoverflow.com/) es un sitio de preguntas-y-respuestas muy popular entre programadores. Veréis que para la gran mayoría de las dudas que tengáis, habrá alguien que ya les habrá tenido (y consultado) anteriormente! Así pues, más allá de preguntar vosotros mismos las dudas allí (nosotros ya tenemos el foro del aula para ello!), consultar esta web os permitirá ver qué soluciones proponen otros programadores a estas dudas. A menudo habrá más de una solución a un mismo problema, y podréis valorar cuál es la más adecuada para vuestro problema.\n",
    "\n",
    "Para ver ejemplos de problemas que son adecuados para resolver con **list comprehensions**, os recomendamos leer las siguientes páginas:\n",
    "* https://stackoverflow.com/questions/12555443/squaring-all-elements-in-a-list\n",
    "* https://stackoverflow.com/questions/18551458/how-to-frame-two-for-loops-in-list-comprehension-python\n",
    "* https://stackoverflow.com/questions/24442091/list-comprehension-with-condition\n",
    "* https://stackoverflow.com/questions/41676212/i-want-to-return-only-the-odd-numbers-in-a-list\n",
    "* https://stackoverflow.com/questions/4260280/if-else-in-a-list-comprehension\n"
   ]
  },
  {
   "cell_type": "markdown",
   "metadata": {},
   "source": [
    "a) Una lista con los valores $4 x^2$ donde $x$ es cada uno de los números de la lista `list_1`:"
   ]
  },
  {
   "cell_type": "code",
   "execution_count": 17,
   "metadata": {},
   "outputs": [
    {
     "name": "stdout",
     "output_type": "stream",
     "text": [
      "[16, 64, 144, 256, 400, 576, 784, 1024, 1296]\n"
     ]
    }
   ],
   "source": [
    "list_1 = [1, 2, 3, 4, 5, 6, 7, 8, 9]\n",
    "list_2=[]\n",
    "# Respuesta\n",
    "list_2=[pow((4*i),2) for i in list_1]\n",
    "print(list_2)\n"
   ]
  },
  {
   "cell_type": "markdown",
   "metadata": {},
   "source": [
    "b) Una lista con los valores $x/(x+1)$ donde $x$ es cada uno de los números de la lista `list_1`:"
   ]
  },
  {
   "cell_type": "code",
   "execution_count": 19,
   "metadata": {},
   "outputs": [
    {
     "name": "stdout",
     "output_type": "stream",
     "text": [
      "[0.5, 0.6666666666666666, 0.75, 0.8, 0.8333333333333334, 0.8571428571428571, 0.875, 0.8888888888888888, 0.9]\n"
     ]
    }
   ],
   "source": [
    "list_1 = [1, 2, 3, 4, 5, 6, 7, 8, 9]\n",
    "list_2=[]\n",
    "# Respuesta\n",
    "list_2=[(i/(i+1)) for i in list_1]\n",
    "print(list_2)"
   ]
  },
  {
   "cell_type": "markdown",
   "metadata": {},
   "source": [
    "c) Una lista con los valores $4x^2/(4x^2-1)$ donde $x$ es cada uno de los números de la lista `list_1`:"
   ]
  },
  {
   "cell_type": "code",
   "execution_count": 20,
   "metadata": {},
   "outputs": [
    {
     "name": "stdout",
     "output_type": "stream",
     "text": [
      "[1.0666666666666667, 1.0158730158730158, 1.006993006993007, 1.003921568627451, 1.0025062656641603, 1.0017391304347827, 1.0012771392081736, 1.0009775171065494, 1.0007722007722009]\n"
     ]
    }
   ],
   "source": [
    "list_1 = [1, 2, 3, 4, 5, 6, 7, 8, 9]\n",
    "list_2=[]\n",
    "# Respuesta\n",
    "list_2=[(pow((4*i),2)/(pow((4*i),2)-1)) for i in list_1]\n",
    "print(list_2)"
   ]
  },
  {
   "cell_type": "markdown",
   "metadata": {},
   "source": [
    "### Ejercicio 5\n",
    "\n",
    "El siguiente ejercicio consiste en pasar un número en base 16 (hexadecimal, 0-9/A-F) a base 10 (decimal). Para hacerlo, debéis crear una **función** que dado un _string_ que representa un número en hexadecimal, por ejemplo, `AE3F`, devuelva el número \n",
    "natural correspondiente. En este caso, el resultado sería `44607`."
   ]
  },
  {
   "cell_type": "code",
   "execution_count": 4,
   "metadata": {},
   "outputs": [
    {
     "name": "stdout",
     "output_type": "stream",
     "text": [
      "Decimal es 0\n",
      "El verdadero valor de f es 15\n",
      "Elevamos 16 a la potencia 0, el resultado es 1\n",
      "Multiplicamos el número elevado por el valor del carácter actual: 15\n",
      "Ahora decimal es 15\n",
      "Decimal es 15\n",
      "El verdadero valor de 3 es 3\n",
      "Elevamos 16 a la potencia 1, el resultado es 16\n",
      "Multiplicamos el número elevado por el valor del carácter actual: 48\n",
      "Ahora decimal es 63\n",
      "Decimal es 63\n",
      "El verdadero valor de e es 14\n",
      "Elevamos 16 a la potencia 2, el resultado es 256\n",
      "Multiplicamos el número elevado por el valor del carácter actual: 3584\n",
      "Ahora decimal es 3647\n",
      "Decimal es 3647\n",
      "El verdadero valor de a es 10\n",
      "Elevamos 16 a la potencia 3, el resultado es 4096\n",
      "Multiplicamos el número elevado por el valor del carácter actual: 40960\n",
      "Ahora decimal es 44607\n",
      "El hexadecimal AE3F equivale a 44607 en decimal\n"
     ]
    }
   ],
   "source": [
    "def obtener_valor_real(caracter_hexadecimal):\n",
    "    equivalencias = {\n",
    "        \"f\": 15,\n",
    "        \"e\": 14,\n",
    "        \"d\": 13,\n",
    "        \"c\": 12,\n",
    "        \"b\": 11,\n",
    "        \"a\": 10,\n",
    "    }\n",
    "    if caracter_hexadecimal in equivalencias:\n",
    "        return equivalencias[caracter_hexadecimal]\n",
    "    else:\n",
    "        return int(caracter_hexadecimal)\n",
    "\n",
    "\n",
    "def hexadecimal_a_decimal(hexadecimal):\n",
    "    # Convertir a minúsculas para hacer las cosas más simples\n",
    "    hexadecimal = hexadecimal.lower()\n",
    "    # La debemos recorrer del final al principio, así que la invertimos\n",
    "    hexadecimal = hexadecimal[::-1]\n",
    "    decimal = 0\n",
    "    posicion = 0\n",
    "    for digito in hexadecimal:\n",
    "        print(f\"Decimal es {decimal}\")\n",
    "        # Necesitamos que nos de un 10 para la A, un 9 para el 9, un 11 para la B, etcétera\n",
    "        valor = obtener_valor_real(digito)\n",
    "        print(f\"El verdadero valor de {digito} es {valor}\")\n",
    "        elevado = 16 ** posicion\n",
    "        print(\n",
    "            f\"Elevamos 16 a la potencia {posicion}, el resultado es {elevado}\")\n",
    "        equivalencia = elevado * valor\n",
    "        print(\n",
    "            f\"Multiplicamos el número elevado por el valor del carácter actual: {equivalencia}\")\n",
    "        decimal += equivalencia\n",
    "        print(f\"Ahora decimal es {decimal}\")\n",
    "        posicion += 1\n",
    "    return decimal\n",
    "\n",
    "\n",
    "hexadecimal = input(\"Ingresa un número hexadecimal: \")\n",
    "decimal = hexadecimal_a_decimal(hexadecimal)\n",
    "print(f\"El hexadecimal {hexadecimal} equivale a {decimal} en decimal\")"
   ]
  },
  {
   "cell_type": "markdown",
   "metadata": {},
   "source": [
    "### Ejercicio 6\n",
    "\n",
    "Las excepciones son errores detectados en tiempo de ejecución. Pueden y deben ser manejadas por el programador para minimizar el riesgo de que un determinado programa falle de forma no controlada. Escribid, en lenguaje Python, cómo generar y capturar la siguiente excepción: **ZeroDivisionError**."
   ]
  },
  {
   "cell_type": "code",
   "execution_count": 45,
   "metadata": {},
   "outputs": [
    {
     "name": "stdout",
     "output_type": "stream",
     "text": [
      "División por cero\n",
      "Tu división es: 1.0\n"
     ]
    }
   ],
   "source": [
    "# Respuesta\n",
    "while True:\n",
    "        try:\n",
    "            x = int(input(\"Introduce un numero del 1 al 9:\"))\n",
    "            if x == 1 or x == 3 or x == 5 or x == 7 or x == 9:\n",
    "                x=x/0\n",
    "            else:\n",
    "                x=x/2\n",
    "                print(\"Tu división es:\",x)\n",
    "            break\n",
    "        except ZeroDivisionError:\n",
    "            print(\"División por cero\")\n",
    "            "
   ]
  },
  {
   "cell_type": "markdown",
   "metadata": {},
   "source": [
    "### Ejercicio 7\n",
    "\n",
    "Completad el código necesario para calcular el número de vocales y de consonantes respectivamente de un texto."
   ]
  },
  {
   "cell_type": "code",
   "execution_count": 58,
   "metadata": {},
   "outputs": [
    {
     "name": "stdout",
     "output_type": "stream",
     "text": [
      "En la cadena 'Ever tried. Ever failed. No matter. Try Again. Fail again. Fail better.'' hay 24 vocales\n",
      "En la cadena 'Ever tried. Ever failed. No matter. Try Again. Fail again. Fail better.'' hay 30 consonantes\n"
     ]
    }
   ],
   "source": [
    "def contar_vocales(cadena):\n",
    "\tcontador = 0\n",
    "\tfor letra in cadena:\n",
    "\t\tif letra.lower() in \"aeiou\":\n",
    "\t\t\tcontador += 1\n",
    "\treturn contador\n",
    "\n",
    "cadena = \"Ever tried. Ever failed. No matter. Try Again. Fail again. Fail better.\"\n",
    "cantidad = contar_vocales(cadena)\n",
    "print(f\"En la cadena '{cadena}'' hay {cantidad} vocales\")\n",
    "\n",
    "def contar_consonantes(cadena):\n",
    "\tcontador = 0\n",
    "\tfor letra in cadena:\n",
    "\t\tif letra.lower() in \"bcdfghjklmnpqrstvwxyz\":\n",
    "\t\t\tcontador += 1\n",
    "\treturn contador\n",
    "\n",
    "cadena = \"Ever tried. Ever failed. No matter. Try Again. Fail again. Fail better.\"\n",
    "cantidad = contar_consonantes(cadena)\n",
    "print(f\"En la cadena '{cadena}'' hay {cantidad} consonantes\")\n"
   ]
  },
  {
   "cell_type": "markdown",
   "metadata": {},
   "source": [
    "### Ejercicio 8\n",
    "\n",
    "Escribid una función que dada una lista de planetas del sistema solar, pregunte al usuario que introduzca una posición y muestre el plante correspondiente a dicha posición. Por ejemplo, si tenemos la siguiente lista: `['Mercurio', 'Venus', 'Tierra', 'Marte']` y el usuario nos ha introducido la posición `3`, hemos de mostrar como resultado por pantalla: `Tierra`.\n",
    "\n",
    "Consideraciones:\n",
    "\n",
    "- La posición que introduzca el usuario tiene que ser un número entero estrictamente positivo.\n",
    "- La función debe controlar el acceso a una posición fuera de la lista mediante una **excepción**. Por ejemplo, en el caso anterior debemos mostrar una mensaje de error si el usuario pide acceder a la posición 10."
   ]
  },
  {
   "cell_type": "code",
   "execution_count": 1,
   "metadata": {},
   "outputs": [
    {
     "name": "stdout",
     "output_type": "stream",
     "text": [
      "la posicion del planeta introducido es: (4, 'Jupiter')\n"
     ]
    }
   ],
   "source": [
    "# Respuesta\n",
    "while True:      \n",
    "        try:\n",
    "            planetas=[\"Mercurio\",\"Venus\",\"Tierra\",\"Marte\",\"Jupiter\",\"Saturno\",\"Urano\",\"Neptuno\",\"Pluton\"]\n",
    "            p=int(input(\"Introduce el numero del planeta a mostrar\"))\n",
    "            for v in enumerate(planetas):\n",
    "              if p in v:        \n",
    "                  print(\"la posicion del planeta introducido es:\",v)\n",
    "              else:\n",
    "                if p > 8 or p < 0:\n",
    "                  print(\"El numero introducido debe estar entre 0 y 8\")\n",
    "                  p=int(input(\"Introduce el numero del planeta a mostrar\"))\n",
    "            break \n",
    "        except ValueError:\n",
    "              print(\"No has introducido un número, introduce 0 a 8 \")\n"
   ]
  },
  {
   "cell_type": "markdown",
   "metadata": {},
   "source": [
    "### Ejercicio 9\n",
    "\n",
    "Dada una lista de planetas del sistema solar, determinad cuales de estos planetas tienen una masa superior a la de la Tierra. Por ejemplo, si la lista inicial es `['Venus', 'Marte', 'Saturno']`, el resultado que mostraríamos por pantalla sería `['Saturno']` ya que el planeta Saturno tiene una masa `95.2` veces superior a la Tierra.\n",
    "\n",
    "Consideraciones:\n",
    "\n",
    "- Debéis tener en cuenta que el nombre de los planetas que nos pasan por parámetro puede estar en minúsculas, mayúsculas o una combinación de ambas.\n",
    "- Podéis asumir que no habrá acentos en el nombre de los planetas.\n",
    "- Debéis determinar aquellos planetas que tiene una massa estrictamente superior a la de la Tierra.\n",
    "- No habrá planetas repetidos en la lista que nos pasan por parámetro."
   ]
  },
  {
   "cell_type": "code",
   "execution_count": 16,
   "metadata": {},
   "outputs": [],
   "source": [
    "masas = {'Mercurio': 0.06, 'Venus': 0.82, 'Tierra': 1, 'Marte': 0.11, 'Jupiter': 317.8, \n",
    "          'Saturno': 95.2, 'Urano': 14.6, 'Neptuno': 17.2, 'Pluto': 0.0022}\n",
    "planetas=['urano', 'URAno', 'Urano', 'marte', 'Venus']"
   ]
  },
  {
   "cell_type": "code",
   "execution_count": 17,
   "metadata": {},
   "outputs": [
    {
     "name": "stdout",
     "output_type": "stream",
     "text": [
      "['Urano', 'Urano', 'Urano', 'Marte', 'Venus']\n"
     ]
    },
    {
     "data": {
      "text/plain": [
       "['Urano']"
      ]
     },
     "execution_count": 17,
     "metadata": {},
     "output_type": "execute_result"
    }
   ],
   "source": [
    "def planetas_mas_grandes_que_Tierra(planetas):\n",
    "    \"\"\"\n",
    "    Planetas con una masa superior a la de la Tierra\n",
    "    \"\"\"\n",
    "    d=[]\n",
    "    d3=[]\n",
    "    planetas_masa_superior = []\n",
    "    planet=[]\n",
    "    for i in planetas:\n",
    "        nombre=i\n",
    "        nombre=nombre.upper()\n",
    "        nombre=nombre.capitalize()\n",
    "        planet.append(nombre)\n",
    "    print(planet)\n",
    "    for i in set(planet):\n",
    "        if i in masas:  \n",
    "            d=masas.get(i)\n",
    "            d2=masas.get(\"Tierra\")\n",
    "            if d2 < d:\n",
    "                planetas_masa_superior.append(i)\n",
    "            else:\n",
    "                d3.append(i)\n",
    "    return planetas_masa_superior\n",
    "planetas_mas_grandes_que_Tierra(planetas)"
   ]
  },
  {
   "cell_type": "code",
   "execution_count": 19,
   "metadata": {},
   "outputs": [],
   "source": [
    "\n",
    "planet=[]\n",
    "i=0\n",
    "for i in planetas:\n",
    "    nombre=i\n",
    "    nombre=nombre.upper()\n",
    "    nombre=nombre.capitalize()\n",
    "    planet.append(nombre)"
   ]
  },
  {
   "cell_type": "markdown",
   "metadata": {},
   "source": [
    "### Ejercicio 10\n",
    "\n",
    "Dada una cadena de caracteres, `s`, de longitud `n` y un número entero positivo `k`, siendo `k` un divisor de `n`, podemos dividir la cadena `s` en `n / k` sub-cadenas de la misma longitud.\n",
    "\n",
    "Escribid una función que, dada una cadena `s` y un número entero `k`, devuelva las `n/k` sub-cadenas teniendo en cuenta las siguientes consideraciones:\n",
    "\n",
    "- El orden de los caracteres en las sub-cadenas debe ser el mismo que en la cadena original.\n",
    "- Todos los caracteres de las sub-cadenas deben aparecer una única vez. Es decir, si un caracter se repite dentro de una sub-cadena, sólo hemos de mostrar la primera ocurrencia.\n",
    "\n",
    "Por ejemplo, si tenemmos\n",
    "<code>\n",
    "s = AABCCAADA\n",
    "k = 3\n",
    "</code>\n",
    "\n",
    "el resultado a mostrar por pantalla sería:\n",
    "<code>\n",
    "AB\n",
    "CA\n",
    "AD\n",
    "</code>\n",
    "\n",
    "Tenemos que la longitud de la cadena es 9 y por lo tanto, podemos formar 3 sub-cadenas:\n",
    "\n",
    "`AAB -> AB` (el caracter A se repite dos veces)\n",
    "\n",
    "`CCA -> CA` (el caracter C se repite dos veces)\n",
    "\n",
    "`ADA -> AD` (el caracter A se repite dos veces)"
   ]
  }
 ],
 "metadata": {
  "interpreter": {
   "hash": "3a457f06cda4579c7033761bf4e886c4764e74b759b9220f07c03aa5d4880471"
  },
  "kernelspec": {
   "display_name": "Python 3.9.5 ('data_science_py395')",
   "language": "python",
   "name": "python3"
  },
  "language_info": {
   "codemirror_mode": {
    "name": "ipython",
    "version": 3
   },
   "file_extension": ".py",
   "mimetype": "text/x-python",
   "name": "python",
   "nbconvert_exporter": "python",
   "pygments_lexer": "ipython3",
   "version": "3.9.5"
  },
  "orig_nbformat": 4
 },
 "nbformat": 4,
 "nbformat_minor": 2
}
