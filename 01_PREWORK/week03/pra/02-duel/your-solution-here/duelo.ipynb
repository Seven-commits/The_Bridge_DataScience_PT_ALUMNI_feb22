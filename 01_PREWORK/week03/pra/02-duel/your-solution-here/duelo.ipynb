{
 "cells": [
  {
   "cell_type": "markdown",
   "metadata": {},
   "source": [
    "# Duelo de magos\n",
    "Estás presenciando una batalla épica entre dos poderosos magos: Gandalf y Saruman. Cada mago tiene 10 hechizos de potencia variable en su mente y los van a lanzar uno tras otro. El ganador del duelo será el que gane más de esos choques entre hechizos. Los hechizos se representan como una lista de 10 números enteros cuyo valor equivale a la potencia del hechizo. \n",
    "```\n",
    "gandalf = [10, 11, 13, 30, 22, 11, 10, 33, 22, 22]\n",
    "saruman = [23, 66, 12, 43, 12, 10, 44, 23, 12, 17]\n",
    "```\n",
    "Por ejemplo: \n",
    "1. El primer choque lo gana Saruman: 10 contra 23, gana el 23\n",
    "2. El segundo choque gana Saruman: 11 contra 66, gana el 66\n",
    "3. etc.\n",
    "\n",
    "\n",
    "Vas a crear dos variables, una por cada mago, donde se almacenarán la suma de choques de hechizos ganados. En función de qué variable sea mayor al final del duelo, mostrarás por pantalla uno de los tres siguientes resultados: \n",
    "* Gandalf gana\n",
    "* Saruman gana\n",
    "* Empate\n",
    "\n",
    "\n",
    "1. El primer choque lo gana Saruman: 10 contra 23, gana el 23\n",
    "2. El segundo choque gana Saruman: 11 contra 66, gana el 66\n",
    "3. etc."
   ]
  },
  {
   "cell_type": "markdown",
   "metadata": {},
   "source": [
    "## Solución"
   ]
  },
  {
   "cell_type": "code",
   "execution_count": 1,
   "metadata": {},
   "outputs": [],
   "source": [
    "# Asignamos las listas de hechizos a variables\n",
    "gandalf = [10, 11, 13, 30, 22, 11, 10, 33, 22, 22]\n",
    "saruman = [23, 66, 12, 43, 12, 10, 44, 23, 12, 17]\n",
    "\n",
    "# Asignamos 0 a cada variable que almacena las victorias\n",
    "\n",
    "\n",
    "# Ejecución de los choques de hechizos\n",
    "\n",
    "\n",
    "# Comprobamos quién ha ganado, no olvides la posibilidad de empate. \n",
    "# Imprime el resultado en función del ganador. \n",
    "\n"
   ]
  },
  {
   "cell_type": "markdown",
   "metadata": {},
   "source": [
    "## Objetivos\n",
    "\n",
    "1. Tratamiento de listas\n",
    "2. Uso de bucle **for**\n",
    "3. Uso de condicionales **if-elif-else**\n",
    "4. Uso de las funciones **range(), len()**\n",
    "5. Imprimir por consola"
   ]
  },
  {
   "cell_type": "code",
   "execution_count": 30,
   "metadata": {},
   "outputs": [
    {
     "name": "stdout",
     "output_type": "stream",
     "text": [
      "Saruman gana\n",
      "Saruman: 1 - Gandalf: 0\n",
      "Saruman gana\n",
      "Saruman: 2 - Gandalf: 0\n",
      "Gandalf gana\n",
      "Saruman: 2 - Gandalf: 1\n",
      "Saruman gana\n",
      "Saruman: 3 - Gandalf: 1\n",
      "Gandalf gana\n",
      "Saruman: 3 - Gandalf: 2\n",
      "Gandalf gana\n",
      "Saruman: 3 - Gandalf: 3\n",
      "Saruman gana\n",
      "Saruman: 4 - Gandalf: 3\n",
      "Gandalf gana\n",
      "Saruman: 4 - Gandalf: 4\n",
      "Gandalf gana\n",
      "Saruman: 4 - Gandalf: 5\n",
      "Gandalf gana\n",
      "Saruman: 4 - Gandalf: 6\n",
      "Victorias Gandalf = 6\n",
      "Victorias Saruman = 4\n",
      "Gandalf ha derrotado a Saruman\n"
     ]
    }
   ],
   "source": [
    "gandalf = [10, 11, 13, 30, 22, 11, 10, 33, 22, 22]\n",
    "saruman = [23, 66, 12, 43, 12, 10, 44, 23, 12, 17]\n",
    "\n",
    "victorias_gandalf=0\n",
    "victorias_saruman=0\n",
    "enfrentamientos=len(gandalf)\n",
    "\n",
    "for i in range(10):\n",
    "\n",
    "    if(gandalf[i]) > (saruman[i]):\n",
    "        print(\"Gandalf gana\")\n",
    "        victorias_gandalf += 1\n",
    "        print(\"Saruman:\", victorias_saruman, \"-\", \"Gandalf:\", victorias_gandalf)\n",
    "    elif(saruman[i]) > (gandalf[i]):\n",
    "        print(\"Saruman gana\")\n",
    "        victorias_saruman += 1\n",
    "        print(\"Saruman:\", victorias_saruman, \"-\", \"Gandalf:\", victorias_gandalf)\n",
    "print(\"Victorias Gandalf =\", victorias_gandalf)\n",
    "print(\"Victorias Saruman =\", victorias_saruman)\n",
    "if(victorias_gandalf > victorias_saruman):\n",
    "    print(\"Gandalf ha derrotado a Saruman\")\n",
    "elif(victorias_gandalf < victorias_saruman):\n",
    "    print(\"Saruman ha derrotado a Gandalf\")\n",
    "else:\n",
    "    print(\"Ambos magos son igual de poderosos\")"
   ]
  },
  {
   "cell_type": "markdown",
   "metadata": {},
   "source": [
    "Este enfrentamiento solo podría darse contra Gandalf el Gris,\n",
    "si fuera contra Gandalf el Blanco, Saruman no tendria ninguna oportunidad de ganar ningún combate."
   ]
  }
 ],
 "metadata": {
  "kernelspec": {
   "display_name": "Python 3",
   "language": "python",
   "name": "python3"
  },
  "language_info": {
   "codemirror_mode": {
    "name": "ipython",
    "version": 3
   },
   "file_extension": ".py",
   "mimetype": "text/x-python",
   "name": "python",
   "nbconvert_exporter": "python",
   "pygments_lexer": "ipython3",
   "version": "3.9.5"
  }
 },
 "nbformat": 4,
 "nbformat_minor": 2
}
